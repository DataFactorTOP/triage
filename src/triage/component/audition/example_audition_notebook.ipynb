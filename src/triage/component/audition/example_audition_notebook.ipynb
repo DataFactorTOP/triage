{
 "cells": [
  {
   "cell_type": "code",
   "execution_count": null,
   "metadata": {},
   "outputs": [],
   "source": [
    "%matplotlib inline\n",
    "from matplotlib import pyplot as plt\n",
    "plt.style.use('ggplot')\n",
    "\n",
    "import pandas as pd\n",
    "pd.set_option('precision', 4)\n",
    "\n",
    "from triage.component.audition import Auditioner\n",
    "import catwalk.db"
   ]
  },
  {
   "cell_type": "markdown",
   "metadata": {},
   "source": [
    "### Setting up the Auditioner instance\n",
    "Currently you need to specify the set of `model_group_id`s and `train_end_time`s you want to use manually, so here we're reading a few sets out of the database.\n",
    "\n",
    "Additionally, you need to specify a name for the best distance table when creating the `Auditioner` and should ensure it doesn't already exist.\n",
    "\n",
    "For simplicity, we'll just look at precision@300_abs here."
   ]
  },
  {
   "cell_type": "code",
   "execution_count": null,
   "metadata": {},
   "outputs": [],
   "source": [
    "conn = catwalk.db.connect()"
   ]
  },
  {
   "cell_type": "code",
   "execution_count": null,
   "metadata": {
    "collapsed": true
   },
   "outputs": [],
   "source": [
    "sel = \"\"\"\n",
    "SELECT model_group_id\n",
    "FROM results.model_groups\n",
    "WHERE model_config->>'label_definition' = 'any_serious_violation'\n",
    "ORDER BY RANDOM()\n",
    ";\n",
    "\"\"\"\n",
    "\n",
    "model_groups = list(pd.read_sql(sel,conn)['model_group_id'])"
   ]
  },
  {
   "cell_type": "code",
   "execution_count": null,
   "metadata": {},
   "outputs": [],
   "source": [
    "sel = \"\"\"\n",
    "SELECT DISTINCT train_end_time\n",
    "FROM results.models\n",
    "WHERE model_group_id IN ({})\n",
    "    AND EXTRACT(MONTH FROM train_end_time) IN (1,4,7,10)\n",
    "    AND train_end_time >= '2012-01-01'\n",
    "ORDER BY train_end_time\n",
    ";\n",
    "\"\"\".format(', '.join(map(str, model_groups)))\n",
    "\n",
    "end_times = list(pd.read_sql(sel, conn)['train_end_time'])"
   ]
  },
  {
   "cell_type": "code",
   "execution_count": null,
   "metadata": {
    "collapsed": true
   },
   "outputs": [],
   "source": [
    "aud = Auditioner(\n",
    "    db_engine = conn,\n",
    "    model_group_ids = model_groups,\n",
    "    train_end_times = end_times,\n",
    "    initial_metric_filters = [{'metric': 'precision@', 'parameter': '300_abs', 'max_from_best': 1.0, 'threshold_value': 0.0}],\n",
    "    models_table = 'models',\n",
    "    distance_table = 'kr_test_dist'\n",
    ")"
   ]
  },
  {
   "cell_type": "markdown",
   "metadata": {},
   "source": [
    "### Plotting the best distance metric and groups over time\n",
    "This is done with the `plot_model_groups` method and may take a minute to generate."
   ]
  },
  {
   "cell_type": "code",
   "execution_count": null,
   "metadata": {},
   "outputs": [],
   "source": [
    "aud.plot_model_groups()"
   ]
  },
  {
   "cell_type": "markdown",
   "metadata": {},
   "source": [
    "### Applying thresholds to weed out bad models\n",
    "Here we use the `update_metric_filters` to apply a set of filters to the model groups we're considering in order to elminate poorly performing ones. The model groups will be plotted again after updating the filters."
   ]
  },
  {
   "cell_type": "code",
   "execution_count": null,
   "metadata": {
    "collapsed": true
   },
   "outputs": [],
   "source": [
    "aud.update_metric_filters(\n",
    "    [{\n",
    "        'metric': 'precision@',\n",
    "        'parameter': '300_abs',\n",
    "        'max_from_best': 0.2,\n",
    "        'threshold_value': 0.0\n",
    "    }]\n",
    ")"
   ]
  },
  {
   "cell_type": "markdown",
   "metadata": {},
   "source": [
    "Apply a round of filtering, starting with no threshold_value and a fairly wide margin on max_from_best"
   ]
  },
  {
   "cell_type": "code",
   "execution_count": null,
   "metadata": {},
   "outputs": [],
   "source": [
    "# how many model groups are left after the first round of filtering?\n",
    "len(aud.thresholded_model_group_ids)"
   ]
  },
  {
   "cell_type": "markdown",
   "metadata": {},
   "source": [
    "That didn't thin things out too much, so let's get a bit more agressive with both parameters:"
   ]
  },
  {
   "cell_type": "code",
   "execution_count": null,
   "metadata": {},
   "outputs": [],
   "source": [
    "aud.update_metric_filters([{\n",
    "    'metric': 'precision@',\n",
    "    'parameter': '300_abs',\n",
    "    'max_from_best': 0.1,\n",
    "    'threshold_value': 0.5\n",
    "}])\n",
    "len(aud.thresholded_model_group_ids)"
   ]
  },
  {
   "cell_type": "markdown",
   "metadata": {},
   "source": [
    "That's starting to look better, but we can probably narrow even a bit more..."
   ]
  },
  {
   "cell_type": "code",
   "execution_count": null,
   "metadata": {},
   "outputs": [],
   "source": [
    "aud.update_metric_filters([{\n",
    "    'metric': 'precision@',\n",
    "    'parameter': '300_abs',\n",
    "    'max_from_best': 0.05,\n",
    "    'threshold_value': 0.65\n",
    "}])\n",
    "len(aud.thresholded_model_group_ids)"
   ]
  },
  {
   "cell_type": "markdown",
   "metadata": {},
   "source": [
    "This looks like a better set of prospective models to consider. Could potentially even back off a little bit, but certainly seems like we've cleared out most of the worst models.\n",
    "\n",
    "### Applying selection rules and calculating regrets for the narrowed set of models\n",
    "The goal of audition is to narrow a very large number of model groups to a small number of best candidates, ideally making use of the full time series of information. There are several ways one could consider doing so, using over-time averages of the metrics of interest, weighted averages to balance between metrics, the distance from best metrics, and balancing metric average values and stability. \n",
    "\n",
    "Audition formalizes this idea through \"selection rules\" that take in the data up to a given point in time, apply some rule to choose a model group, and evaluate the performance of that chosen model in the subsequent time window, the `regret`. You can register, evaluate, and update selection rules associated with the `Auditioner` object as shown below."
   ]
  },
  {
   "cell_type": "code",
   "execution_count": null,
   "metadata": {},
   "outputs": [],
   "source": [
    "seln_rules = [{\n",
    "        'shared_parameters': [\n",
    "            {'metric': 'precision@', 'parameter': '300_abs'}\n",
    "        ],\n",
    "        'selection_rules': [\n",
    "            {'name': 'best_current_value'},\n",
    "            {'name': 'best_average_value'},\n",
    "            {'name': 'most_frequent_best_dist', 'dist_from_best_case': [0.01, 0.05, 0.1, 0.15]}\n",
    "        ]\n",
    "    },\n",
    "    {\n",
    "        'shared_parameters': [\n",
    "            {'metric': 'precision@', 'parameter': '300_abs'}\n",
    "        ],\n",
    "        'selection_rules': [\n",
    "            {'name': 'best_avg_recency_weight', 'curr_weight': [1.5, 2.0, 5.0], 'decay_type': ['linear']}\n",
    "        ]\n",
    "    },\n",
    "    {\n",
    "        'shared_parameters': [{}],\n",
    "        'selection_rules': [{'name': 'random_model_group'}]\n",
    "    }]"
   ]
  },
  {
   "cell_type": "code",
   "execution_count": null,
   "metadata": {
    "collapsed": true
   },
   "outputs": [],
   "source": [
    "aud.register_selection_rule_grid(seln_rules)"
   ]
  },
  {
   "cell_type": "markdown",
   "metadata": {},
   "source": [
    "Finally, when you have a selection rule grid you're happy with, the `selection_rule_model_group_ids` parameter of the `Auditioner` will give you the model groups chosen by the selection rules in the grid when applied to the most recent end time for use in application:"
   ]
  },
  {
   "cell_type": "code",
   "execution_count": null,
   "metadata": {
    "collapsed": true
   },
   "outputs": [],
   "source": [
    "aud.selection_rule_model_group_ids"
   ]
  },
  {
   "cell_type": "code",
   "execution_count": null,
   "metadata": {
    "collapsed": true
   },
   "outputs": [],
   "source": []
  }
 ],
 "metadata": {
  "anaconda-cloud": {},
  "kernelspec": {
   "display_name": "Python [default]",
   "language": "python",
   "name": "python2"
  },
  "language_info": {
   "codemirror_mode": {
    "name": "ipython",
    "version": 2
   },
   "file_extension": ".py",
   "mimetype": "text/x-python",
   "name": "python",
   "nbconvert_exporter": "python",
   "pygments_lexer": "ipython2",
   "version": "2.7.12"
  }
 },
 "nbformat": 4,
 "nbformat_minor": 1
}
